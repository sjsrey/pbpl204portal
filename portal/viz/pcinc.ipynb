{
 "cells": [
  {
   "cell_type": "code",
   "execution_count": 1,
   "metadata": {},
   "outputs": [],
   "source": [
    "import libpysal \n",
    "import geopandas as gpd\n",
    "import mapclassify"
   ]
  },
  {
   "cell_type": "code",
   "execution_count": 21,
   "metadata": {},
   "outputs": [
    {
     "data": {
      "text/plain": [
       "'2.3.0'"
      ]
     },
     "execution_count": 21,
     "metadata": {},
     "output_type": "execute_result"
    }
   ],
   "source": [
    "mapclassify.__version__"
   ]
  },
  {
   "cell_type": "markdown",
   "metadata": {},
   "source": [
    "The example in this notebook use data on southern US counties from a built-in dataset available through `libpysal`. We use `libpysal` to obtain the path to the shapefile and then use `geopandas` to create a geodataframe from the shapefile:"
   ]
  },
  {
   "cell_type": "code",
   "execution_count": 2,
   "metadata": {},
   "outputs": [],
   "source": [
    "pth = \"../data/pcinc.shp\"\n",
    "gdf = gpd.read_file(pth)"
   ]
  },
  {
   "cell_type": "code",
   "execution_count": 3,
   "metadata": {},
   "outputs": [
    {
     "data": {
      "text/html": [
       "<div>\n",
       "<style scoped>\n",
       "    .dataframe tbody tr th:only-of-type {\n",
       "        vertical-align: middle;\n",
       "    }\n",
       "\n",
       "    .dataframe tbody tr th {\n",
       "        vertical-align: top;\n",
       "    }\n",
       "\n",
       "    .dataframe thead th {\n",
       "        text-align: right;\n",
       "    }\n",
       "</style>\n",
       "<table border=\"1\" class=\"dataframe\">\n",
       "  <thead>\n",
       "    <tr style=\"text-align: right;\">\n",
       "      <th></th>\n",
       "      <th>REGION</th>\n",
       "      <th>DIVISION</th>\n",
       "      <th>STATEFP</th>\n",
       "      <th>STATENS</th>\n",
       "      <th>GEOID</th>\n",
       "      <th>STUSPS</th>\n",
       "      <th>NAME</th>\n",
       "      <th>LSAD</th>\n",
       "      <th>MTFCC</th>\n",
       "      <th>FUNCSTAT</th>\n",
       "      <th>...</th>\n",
       "      <th>2012</th>\n",
       "      <th>2013</th>\n",
       "      <th>2014</th>\n",
       "      <th>2015</th>\n",
       "      <th>2016</th>\n",
       "      <th>2017</th>\n",
       "      <th>2018</th>\n",
       "      <th>GeoFips_y</th>\n",
       "      <th>fips</th>\n",
       "      <th>geometry</th>\n",
       "    </tr>\n",
       "  </thead>\n",
       "  <tbody>\n",
       "    <tr>\n",
       "      <th>0</th>\n",
       "      <td>3</td>\n",
       "      <td>5</td>\n",
       "      <td>54</td>\n",
       "      <td>01779805</td>\n",
       "      <td>54</td>\n",
       "      <td>WV</td>\n",
       "      <td>West Virginia</td>\n",
       "      <td>00</td>\n",
       "      <td>G4000</td>\n",
       "      <td>A</td>\n",
       "      <td>...</td>\n",
       "      <td>35118</td>\n",
       "      <td>34946</td>\n",
       "      <td>36153</td>\n",
       "      <td>36915</td>\n",
       "      <td>36931</td>\n",
       "      <td>38644</td>\n",
       "      <td>40873</td>\n",
       "      <td>54000</td>\n",
       "      <td>54000</td>\n",
       "      <td>POLYGON ((-81.74725 39.09538, -81.74635 39.096...</td>\n",
       "    </tr>\n",
       "    <tr>\n",
       "      <th>1</th>\n",
       "      <td>3</td>\n",
       "      <td>5</td>\n",
       "      <td>12</td>\n",
       "      <td>00294478</td>\n",
       "      <td>12</td>\n",
       "      <td>FL</td>\n",
       "      <td>Florida</td>\n",
       "      <td>00</td>\n",
       "      <td>G4000</td>\n",
       "      <td>A</td>\n",
       "      <td>...</td>\n",
       "      <td>41055</td>\n",
       "      <td>40659</td>\n",
       "      <td>43109</td>\n",
       "      <td>45287</td>\n",
       "      <td>45684</td>\n",
       "      <td>47869</td>\n",
       "      <td>50070</td>\n",
       "      <td>12000</td>\n",
       "      <td>12000</td>\n",
       "      <td>MULTIPOLYGON (((-86.38865 30.99418, -86.38385 ...</td>\n",
       "    </tr>\n",
       "    <tr>\n",
       "      <th>2</th>\n",
       "      <td>2</td>\n",
       "      <td>3</td>\n",
       "      <td>17</td>\n",
       "      <td>01779784</td>\n",
       "      <td>17</td>\n",
       "      <td>IL</td>\n",
       "      <td>Illinois</td>\n",
       "      <td>00</td>\n",
       "      <td>G4000</td>\n",
       "      <td>A</td>\n",
       "      <td>...</td>\n",
       "      <td>46044</td>\n",
       "      <td>47113</td>\n",
       "      <td>49444</td>\n",
       "      <td>51519</td>\n",
       "      <td>52273</td>\n",
       "      <td>53943</td>\n",
       "      <td>56839</td>\n",
       "      <td>17000</td>\n",
       "      <td>17000</td>\n",
       "      <td>POLYGON ((-91.18529 40.63780, -91.17510 40.643...</td>\n",
       "    </tr>\n",
       "    <tr>\n",
       "      <th>3</th>\n",
       "      <td>2</td>\n",
       "      <td>4</td>\n",
       "      <td>27</td>\n",
       "      <td>00662849</td>\n",
       "      <td>27</td>\n",
       "      <td>MN</td>\n",
       "      <td>Minnesota</td>\n",
       "      <td>00</td>\n",
       "      <td>G4000</td>\n",
       "      <td>A</td>\n",
       "      <td>...</td>\n",
       "      <td>47860</td>\n",
       "      <td>47941</td>\n",
       "      <td>50254</td>\n",
       "      <td>52315</td>\n",
       "      <td>53209</td>\n",
       "      <td>54919</td>\n",
       "      <td>57515</td>\n",
       "      <td>27000</td>\n",
       "      <td>27000</td>\n",
       "      <td>POLYGON ((-96.78438 46.63050, -96.78434 46.630...</td>\n",
       "    </tr>\n",
       "    <tr>\n",
       "      <th>4</th>\n",
       "      <td>3</td>\n",
       "      <td>5</td>\n",
       "      <td>24</td>\n",
       "      <td>01714934</td>\n",
       "      <td>24</td>\n",
       "      <td>MD</td>\n",
       "      <td>Maryland</td>\n",
       "      <td>00</td>\n",
       "      <td>G4000</td>\n",
       "      <td>A</td>\n",
       "      <td>...</td>\n",
       "      <td>53546</td>\n",
       "      <td>53052</td>\n",
       "      <td>54687</td>\n",
       "      <td>57139</td>\n",
       "      <td>59029</td>\n",
       "      <td>60512</td>\n",
       "      <td>63354</td>\n",
       "      <td>24000</td>\n",
       "      <td>24000</td>\n",
       "      <td>POLYGON ((-77.45881 39.22027, -77.45866 39.220...</td>\n",
       "    </tr>\n",
       "  </tbody>\n",
       "</table>\n",
       "<p>5 rows × 68 columns</p>\n",
       "</div>"
      ],
      "text/plain": [
       "  REGION DIVISION STATEFP   STATENS GEOID STUSPS           NAME LSAD  MTFCC  \\\n",
       "0      3        5      54  01779805    54     WV  West Virginia   00  G4000   \n",
       "1      3        5      12  00294478    12     FL        Florida   00  G4000   \n",
       "2      2        3      17  01779784    17     IL       Illinois   00  G4000   \n",
       "3      2        4      27  00662849    27     MN      Minnesota   00  G4000   \n",
       "4      3        5      24  01714934    24     MD       Maryland   00  G4000   \n",
       "\n",
       "  FUNCSTAT  ...   2012   2013   2014   2015   2016   2017   2018  GeoFips_y  \\\n",
       "0        A  ...  35118  34946  36153  36915  36931  38644  40873      54000   \n",
       "1        A  ...  41055  40659  43109  45287  45684  47869  50070      12000   \n",
       "2        A  ...  46044  47113  49444  51519  52273  53943  56839      17000   \n",
       "3        A  ...  47860  47941  50254  52315  53209  54919  57515      27000   \n",
       "4        A  ...  53546  53052  54687  57139  59029  60512  63354      24000   \n",
       "\n",
       "    fips                                           geometry  \n",
       "0  54000  POLYGON ((-81.74725 39.09538, -81.74635 39.096...  \n",
       "1  12000  MULTIPOLYGON (((-86.38865 30.99418, -86.38385 ...  \n",
       "2  17000  POLYGON ((-91.18529 40.63780, -91.17510 40.643...  \n",
       "3  27000  POLYGON ((-96.78438 46.63050, -96.78434 46.630...  \n",
       "4  24000  POLYGON ((-77.45881 39.22027, -77.45866 39.220...  \n",
       "\n",
       "[5 rows x 68 columns]"
      ]
     },
     "execution_count": 3,
     "metadata": {},
     "output_type": "execute_result"
    }
   ],
   "source": [
    "gdf.head()"
   ]
  },
  {
   "cell_type": "code",
   "execution_count": 7,
   "metadata": {},
   "outputs": [
    {
     "data": {
      "text/plain": [
       "Quantiles                   \n",
       "\n",
       "      Interval         Count\n",
       "----------------------------\n",
       "[37834.00, 43078.00] |     5\n",
       "(43078.00, 46186.60] |     5\n",
       "(46186.60, 46999.60] |     5\n",
       "(46999.60, 48772.20] |     5\n",
       "(48772.20, 50355.00] |     5\n",
       "(50355.00, 52448.80] |     4\n",
       "(52448.80, 55915.80] |     5\n",
       "(55915.80, 59218.00] |     5\n",
       "(59218.00, 64492.80] |     5\n",
       "(64492.80, 82005.00] |     5"
      ]
     },
     "execution_count": 7,
     "metadata": {},
     "output_type": "execute_result"
    }
   ],
   "source": [
    "pci_2018 = gdf['2018']\n",
    "q10 = mapclassify.Quantiles(pci_2018, k=10)\n",
    "q10"
   ]
  },
  {
   "cell_type": "markdown",
   "metadata": {},
   "source": [
    "Here we see the 10 classes, but without more specific information on the legend, the user has to know that 0 is the first declile and 9 the 10th. We also do not know the values that define these classes. \n",
    "\n",
    "We can rectify this as follows:"
   ]
  },
  {
   "cell_type": "code",
   "execution_count": 8,
   "metadata": {},
   "outputs": [
    {
     "data": {
      "text/plain": [
       "['[37834.00, 43078.00]',\n",
       " '(43078.00, 46186.60]',\n",
       " '(46186.60, 46999.60]',\n",
       " '(46999.60, 48772.20]',\n",
       " '(48772.20, 50355.00]',\n",
       " '(50355.00, 52448.80]',\n",
       " '(52448.80, 55915.80]',\n",
       " '(55915.80, 59218.00]',\n",
       " '(59218.00, 64492.80]',\n",
       " '(64492.80, 82005.00]']"
      ]
     },
     "execution_count": 8,
     "metadata": {},
     "output_type": "execute_result"
    }
   ],
   "source": [
    "q10.get_legend_classes()"
   ]
  },
  {
   "cell_type": "code",
   "execution_count": 9,
   "metadata": {},
   "outputs": [],
   "source": [
    "mapping = dict([(i,s) for i,s in enumerate(q10.get_legend_classes())])"
   ]
  },
  {
   "cell_type": "code",
   "execution_count": 10,
   "metadata": {},
   "outputs": [
    {
     "data": {
      "text/plain": [
       "{0: '[37834.00, 43078.00]',\n",
       " 1: '(43078.00, 46186.60]',\n",
       " 2: '(46186.60, 46999.60]',\n",
       " 3: '(46999.60, 48772.20]',\n",
       " 4: '(48772.20, 50355.00]',\n",
       " 5: '(50355.00, 52448.80]',\n",
       " 6: '(52448.80, 55915.80]',\n",
       " 7: '(55915.80, 59218.00]',\n",
       " 8: '(59218.00, 64492.80]',\n",
       " 9: '(64492.80, 82005.00]'}"
      ]
     },
     "execution_count": 10,
     "metadata": {},
     "output_type": "execute_result"
    }
   ],
   "source": [
    "mapping"
   ]
  },
  {
   "cell_type": "code",
   "execution_count": 11,
   "metadata": {},
   "outputs": [
    {
     "data": {
      "image/png": "[encoded data removed]",
      "text/plain": [
       "<Figure size 1152x648 with 1 Axes>"
      ]
     },
     "metadata": {
      "needs_background": "light"
     },
     "output_type": "display_data"
    }
   ],
   "source": [
    "def replace_legend_items(legend, mapping):\n",
    "    for txt in legend.texts:\n",
    "        for k,v in mapping.items():\n",
    "            if txt.get_text() == str(k):\n",
    "                txt.set_text(v)\n",
    "\n",
    "import matplotlib.pyplot as plt\n",
    "f, ax = plt.subplots(1, figsize=(16, 9))\n",
    "gdf.assign(cl=q10.yb).plot(column='cl', categorical=True, \\\n",
    "        k=10, cmap='OrRd', linewidth=0.1, ax=ax, \\\n",
    "        edgecolor='white', legend=True,\n",
    "                          legend_kwds={'loc': 'lower right'})\n",
    "ax.set_axis_off()\n",
    "replace_legend_items(ax.get_legend(), mapping)\n",
    "plt.show()"
   ]
  },
  {
   "cell_type": "markdown",
   "metadata": {},
   "source": [
    "## Interactive Exploration of Choropleth Classification\n",
    "\n",
    "Next, we develop a small application that relies on `mapclassify` together with [palettable](https://jiffyclub.github.io/palettable/) and [ipywidgets](https://ipywidgets.readthedocs.io/en/latest/) to explore the choice of:\n",
    "\n",
    "- classification method\n",
    "- number of classes\n",
    "- colormap\n",
    "\n"
   ]
  },
  {
   "cell_type": "code",
   "execution_count": 12,
   "metadata": {},
   "outputs": [],
   "source": [
    "from palettable import colorbrewer\n",
    "sequential = colorbrewer.COLOR_MAPS['Sequential']\n",
    "diverging = colorbrewer.COLOR_MAPS['Diverging']\n",
    "qualitative = colorbrewer.COLOR_MAPS['Qualitative']\n",
    "\n"
   ]
  },
  {
   "cell_type": "code",
   "execution_count": 13,
   "metadata": {},
   "outputs": [
    {
     "data": {
      "text/plain": [
       "dict_keys(['Blues', 'BuGn', 'BuPu', 'GnBu', 'Greens', 'Greys', 'Oranges', 'OrRd', 'PuBu', 'PuBuGn', 'PuRd', 'Purples', 'RdPu', 'Reds', 'YlGn', 'YlGnBu', 'YlOrBr', 'YlOrRd'])"
      ]
     },
     "execution_count": 13,
     "metadata": {},
     "output_type": "execute_result"
    }
   ],
   "source": [
    "sequential.keys()"
   ]
  },
  {
   "cell_type": "code",
   "execution_count": 17,
   "metadata": {},
   "outputs": [
    {
     "data": {
      "application/vnd.jupyter.widget-view+json": {
       "model_id": "df72f9bda91442fab41d57438bc65e2e",
       "version_major": 2,
       "version_minor": 0
      },
      "text/plain": [
       "VBox(children=(RadioButtons(options=('Sequential', 'Diverging', 'Qualitative'), value='Sequential'), Output())…"
      ]
     },
     "metadata": {},
     "output_type": "display_data"
    }
   ],
   "source": [
    "from ipywidgets import interact, Dropdown, RadioButtons, IntSlider, VBox, HBox, FloatSlider, Button, Label\n",
    "\n",
    "k_classifiers = {\n",
    "    'equal_interval': mapclassify.EqualInterval,\n",
    "    'fisher_jenks': mapclassify.FisherJenks,\n",
    "    'jenks_caspall': mapclassify.JenksCaspall,\n",
    "    'jenks_caspall_forced': mapclassify.JenksCaspallForced,\n",
    "    'maximum_breaks': mapclassify.MaximumBreaks,\n",
    "    'natural_breaks': mapclassify.NaturalBreaks,\n",
    "    'quantiles': mapclassify.Quantiles,\n",
    "    }\n",
    "\n",
    "def k_values(ctype, cmap):\n",
    "    k = list(colorbrewer.COLOR_MAPS[ctype][cmap].keys())\n",
    "    return list(map(int, k))\n",
    "    \n",
    "def update_map(method='quantiles', k=5, cmap='Blues', year='2018'):\n",
    "    classifier = k_classifiers[method](gdf[year],k=k)\n",
    "    mapping = dict([(i,s) for i,s in enumerate(classifier.get_legend_classes())])\n",
    "    #print(classifier)\n",
    "    f, ax = plt.subplots(1, figsize=(16, 9))\n",
    "    gdf.assign(cl=classifier.yb).plot(column='cl', categorical=True, \\\n",
    "        k=k, cmap=cmap, linewidth=0.1, ax=ax, \\\n",
    "        edgecolor='grey', legend=True, \\\n",
    "        legend_kwds={'loc': 'lower right'})\n",
    "    ax.set_axis_off()\n",
    "    ax.set_title(f'Per Capita Income {year}')\n",
    "    replace_legend_items(ax.get_legend(), mapping)\n",
    "\n",
    "    plt.show()\n",
    "    \n",
    "\n",
    "\n",
    "data_type = RadioButtons(options=['Sequential', 'Diverging', 'Qualitative']) # options for data type\n",
    "\n",
    "bindings = {'Sequential': range(3,9+1),\n",
    "            'Diverging': range(3,11+1),\n",
    "            'Qualitative': range(3,12+1)}\n",
    "\n",
    "cmap_bindings = {'Sequential': list(sequential.keys()),\n",
    "                 'Diverging': list(diverging.keys()),\n",
    "                 'Qualitative': list(qualitative.keys())}\n",
    "\n",
    "class_val = Dropdown(options=bindings[data_type.value])  # ocjjptions for number of classes\n",
    "cmap_val = Dropdown(options=cmap_bindings[data_type.value]) # options for colormaps for data type\n",
    "\n",
    "def type_change(change):\n",
    "    class_val.options = bindings[change['new']]\n",
    "    cmap_val.options = cmap_bindings[change['new']]\n",
    "\n",
    "def cmap_change(change):\n",
    "    cmap=change['new']\n",
    "    ctype = data_type.value\n",
    "    k = k_values(ctype, cmap)\n",
    "    class_val.options = k\n",
    "    \n",
    "data_type.observe(type_change, names=['value'])\n",
    "cmap_val.observe(cmap_change, names=['value'])\n",
    "\n",
    "\n",
    "from ipywidgets import Output, Tab\n",
    "out = Output()\n",
    "#t = Tab()\n",
    "#t.children = [out]\n",
    "#t\n",
    "\n",
    "# In this case, the interact function must be defined after the conditions stated above...\n",
    "# therefore, the k now depends on the radio button \n",
    "\n",
    "with out:\n",
    "    interact(update_map, method=list(k_classifiers.keys()), cmap=cmap_val, k = class_val)\n",
    "   \n",
    "\n",
    "display(VBox([data_type, out]))\n",
    "\n"
   ]
  },
  {
   "cell_type": "markdown",
   "metadata": {},
   "source": [
    "Changing the type of colormap (sequential, diverging, qualitative) will update the options for the available color maps (`cmap`). Changining any of the values using the dropdowns will update the classification and the resulting choropleth map.\n",
    "\n",
    "It is important to note that the example variable is best portrayed with the sequential colormaps. The other two types of colormaps are included for demonstration purposes only."
   ]
  },
  {
   "cell_type": "markdown",
   "metadata": {},
   "source": [
    "## Extend for selecting time series"
   ]
  },
  {
   "cell_type": "code",
   "execution_count": 18,
   "metadata": {},
   "outputs": [],
   "source": [
    "time_series_variables = [f'{y}' for y in range(1969, 2019)]"
   ]
  },
  {
   "cell_type": "code",
   "execution_count": 19,
   "metadata": {},
   "outputs": [
    {
     "data": {
      "text/plain": [
       "['1969',\n",
       " '1970',\n",
       " '1971',\n",
       " '1972',\n",
       " '1973',\n",
       " '1974',\n",
       " '1975',\n",
       " '1976',\n",
       " '1977',\n",
       " '1978',\n",
       " '1979',\n",
       " '1980',\n",
       " '1981',\n",
       " '1982',\n",
       " '1983',\n",
       " '1984',\n",
       " '1985',\n",
       " '1986',\n",
       " '1987',\n",
       " '1988',\n",
       " '1989',\n",
       " '1990',\n",
       " '1991',\n",
       " '1992',\n",
       " '1993',\n",
       " '1994',\n",
       " '1995',\n",
       " '1996',\n",
       " '1997',\n",
       " '1998',\n",
       " '1999',\n",
       " '2000',\n",
       " '2001',\n",
       " '2002',\n",
       " '2003',\n",
       " '2004',\n",
       " '2005',\n",
       " '2006',\n",
       " '2007',\n",
       " '2008',\n",
       " '2009',\n",
       " '2010',\n",
       " '2011',\n",
       " '2012',\n",
       " '2013',\n",
       " '2014',\n",
       " '2015',\n",
       " '2016',\n",
       " '2017',\n",
       " '2018']"
      ]
     },
     "execution_count": 19,
     "metadata": {},
     "output_type": "execute_result"
    }
   ],
   "source": [
    "time_series_variables"
   ]
  },
  {
   "cell_type": "code",
   "execution_count": 20,
   "metadata": {},
   "outputs": [],
   "source": [
    "from ipywidgets import IntSlider"
   ]
  },
  {
   "cell_type": "code",
   "execution_count": 21,
   "metadata": {},
   "outputs": [],
   "source": [
    "def time_variable(x):\n",
    "    return x"
   ]
  },
  {
   "cell_type": "code",
   "execution_count": 22,
   "metadata": {},
   "outputs": [
    {
     "data": {
      "application/vnd.jupyter.widget-view+json": {
       "model_id": "2987971b9cb5480cacf763fb890cde12",
       "version_major": 2,
       "version_minor": 0
      },
      "text/plain": [
       "interactive(children=(IntSlider(value=1969, description='x', max=2018, min=1969), Output()), _dom_classes=('wi…"
      ]
     },
     "metadata": {},
     "output_type": "display_data"
    }
   ],
   "source": [
    "interact(time_variable, x=IntSlider(min=1969, max=2018, step=1, value=1969));"
   ]
  },
  {
   "cell_type": "code",
   "execution_count": 26,
   "metadata": {},
   "outputs": [
    {
     "data": {
      "application/vnd.jupyter.widget-view+json": {
       "model_id": "5e1bb3f178f6460280d3b0db54eb2946",
       "version_major": 2,
       "version_minor": 0
      },
      "text/plain": [
       "VBox(children=(RadioButtons(options=('Sequential', 'Diverging', 'Qualitative'), value='Sequential'), Output())…"
      ]
     },
     "metadata": {},
     "output_type": "display_data"
    }
   ],
   "source": [
    "from ipywidgets import interact, Dropdown, RadioButtons, IntSlider, VBox, HBox, FloatSlider, Button, Label\n",
    "\n",
    "k_classifiers = {\n",
    "    'equal_interval': mapclassify.EqualInterval,\n",
    "    'fisher_jenks': mapclassify.FisherJenks,\n",
    "    'jenks_caspall': mapclassify.JenksCaspall,\n",
    "    'jenks_caspall_forced': mapclassify.JenksCaspallForced,\n",
    "    'maximum_breaks': mapclassify.MaximumBreaks,\n",
    "    'natural_breaks': mapclassify.NaturalBreaks,\n",
    "    'quantiles': mapclassify.Quantiles,\n",
    "    }\n",
    "\n",
    "def k_values(ctype, cmap):\n",
    "    k = list(colorbrewer.COLOR_MAPS[ctype][cmap].keys())\n",
    "    return list(map(int, k))\n",
    "    \n",
    "def update_map( method='quantiles', k=5, cmap='Blues',year='1969' ):\n",
    "    decade = time_selector.value\n",
    "    variable = f\"{year}\"\n",
    "    classifier = k_classifiers[method](gdf[variable], k=k)\n",
    "    mapping = dict([(i,s) for i,s in enumerate(classifier.get_legend_classes())])\n",
    "    #print(classifier)\n",
    "    f, ax = plt.subplots(1, figsize=(16, 9))\n",
    "    gdf.assign(cl=classifier.yb).plot(column='cl', categorical=True, \\\n",
    "        k=k, cmap=cmap, linewidth=0.1, ax=ax, \\\n",
    "        edgecolor='green', legend=True, \\\n",
    "        legend_kwds={'loc': 'lower right'})\n",
    "    ax.set_axis_off()\n",
    "    ax.set_title(f\"Per Capita Income {year}\")\n",
    "    replace_legend_items(ax.get_legend(), mapping)\n",
    "\n",
    "    plt.show()\n",
    "    \n",
    "\n",
    "\n",
    "data_type = RadioButtons(options=['Sequential', 'Diverging', 'Qualitative']) # options for data type\n",
    "\n",
    "bindings = {'Sequential': range(3,9+1),\n",
    "            'Diverging': range(3,11+1),\n",
    "            'Qualitative': range(3,12+1)}\n",
    "\n",
    "cmap_bindings = {'Sequential': list(sequential.keys()),\n",
    "                 'Diverging': list(diverging.keys()),\n",
    "                 'Qualitative': list(qualitative.keys())}\n",
    "\n",
    "class_val = Dropdown(options=bindings[data_type.value])  # ocjjptions for number of classes\n",
    "cmap_val = Dropdown(options=cmap_bindings[data_type.value]) # options for colormaps for data type\n",
    "\n",
    "def type_change(change):\n",
    "    class_val.options = bindings[change['new']]\n",
    "    cmap_val.options = cmap_bindings[change['new']]\n",
    "\n",
    "def cmap_change(change):\n",
    "    cmap=change['new']\n",
    "    ctype = data_type.value\n",
    "    k = k_values(ctype, cmap)\n",
    "    class_val.options = k\n",
    "    \n",
    "data_type.observe(type_change, names=['value'])\n",
    "cmap_val.observe(cmap_change, names=['value'])\n",
    "\n",
    "time_selector = IntSlider(value=1969, min=1969, max=2011, step=1, description='Year')\n",
    "\n",
    "#def time_change(decade):\n",
    "#       print(decade)\n",
    "#time_selector.observe(time_change, names=['value'])\n",
    "\n",
    "from ipywidgets import Output, Tab\n",
    "out = Output()\n",
    "#t = Tab()\n",
    "#t.children = [out]\n",
    "#t\n",
    "\n",
    "# In this case, the interact function must be defined after the conditions stated above...\n",
    "# therefore, the k now depends on the radio button \n",
    "\n",
    "with out:\n",
    "    #interact(time_change, decade=IntSlider(min=60, max=90, step=10, value=60));\n",
    "    interact(update_map, method=list(k_classifiers.keys()), cmap=cmap_val,\n",
    "             k = class_val, year=time_selector)\n",
    "   \n",
    "\n",
    "display(VBox([data_type, out]))\n",
    "\n"
   ]
  },
  {
   "cell_type": "code",
   "execution_count": null,
   "metadata": {},
   "outputs": [],
   "source": []
  }
 ],
 "metadata": {
  "kernelspec": {
   "display_name": "Python 3",
   "language": "python",
   "name": "python3"
  },
  "language_info": {
   "codemirror_mode": {
    "name": "ipython",
    "version": 3
   },
   "file_extension": ".py",
   "mimetype": "text/x-python",
   "name": "python",
   "nbconvert_exporter": "python",
   "pygments_lexer": "ipython3",
   "version": "3.7.6"
  }
 },
 "nbformat": 4,
 "nbformat_minor": 4
}
